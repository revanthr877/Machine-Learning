{
  "nbformat": 4,
  "nbformat_minor": 0,
  "metadata": {
    "colab": {
      "name": "Untitled0.ipynb",
      "provenance": [],
      "toc_visible": true
    },
    "kernelspec": {
      "name": "python3",
      "display_name": "Python 3"
    }
  },
  "cells": [
    {
      "cell_type": "code",
      "metadata": {
        "colab": {
          "base_uri": "https://localhost:8080/"
        },
        "id": "frdlul1seZSq",
        "outputId": "25ca2c42-5053-4ac2-b694-99c080096e2f"
      },
      "source": [
        "import pandas as pd\r\n",
        "import numpy as np\r\n",
        " \r\n",
        "#to read the data in the csv file\r\n",
        "data = pd.read_csv(\"/content/drive/MyDrive/machine_learning/data.csv\")\r\n",
        "print(data,\"n\")\r\n",
        " \r\n",
        "#making an array of all the attributes\r\n",
        "d = np.array(data)[:,:-1]\r\n",
        "print(\"n The attributes are: \",d)\r\n",
        " \r\n",
        "#segragating the target that has positive and negative examples\r\n",
        "target = np.array(data)[:,-1]\r\n",
        "print(\"n The target is: \",target)\r\n",
        " \r\n",
        "#training function to implement find-s algorithm\r\n",
        "def train(c,t):\r\n",
        "    for i, val in enumerate(t):\r\n",
        "        if val == \"Yes\":\r\n",
        "            specific_hypothesis = c[i].copy()\r\n",
        "            break\r\n",
        "             \r\n",
        "    for i, val in enumerate(c):\r\n",
        "        if t[i] == \"Yes\":\r\n",
        "            for x in range(len(specific_hypothesis)):\r\n",
        "                if val[x] != specific_hypothesis[x]:\r\n",
        "                    specific_hypothesis[x] = '?'\r\n",
        "                else:\r\n",
        "                    pass\r\n",
        "                 \r\n",
        "    return specific_hypothesis\r\n",
        " \r\n",
        "#obtaining the final hypothesis\r\n",
        "print(\"n The final hypothesis is:\",train(d,target))\r\n"
      ],
      "execution_count": 8,
      "outputs": [
        {
          "output_type": "stream",
          "text": [
            "   Morning  Sunny      Warm  Yes    Mild  Strong Yes.1\n",
            "0  Evening  Rainy      Cold   No    Mild  Normal    No\n",
            "1  Morning  Sunny  Moderate  Yes  Normal  Normal   Yes\n",
            "2  Evening  Sunny      Cold  Yes    High  Strong   Yes n\n",
            "n The attributes are:  [['Evening' 'Rainy' 'Cold' 'No' 'Mild' 'Normal']\n",
            " ['Morning' 'Sunny' 'Moderate' 'Yes' 'Normal' 'Normal']\n",
            " ['Evening' 'Sunny' 'Cold' 'Yes' 'High' 'Strong']]\n",
            "n The target is:  ['No' 'Yes' 'Yes']\n",
            "n The final hypothesis is: ['?' 'Sunny' '?' 'Yes' '?' '?']\n"
          ],
          "name": "stdout"
        }
      ]
    },
    {
      "cell_type": "markdown",
      "metadata": {
        "id": "mqgrUi1MfB01"
      },
      "source": [
        "revanth 1BM18CS082"
      ]
    }
  ]
}
